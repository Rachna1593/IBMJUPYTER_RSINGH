{
  "metadata": {
    "language_info": {
      "codemirror_mode": {
        "name": "python",
        "version": 3
      },
      "file_extension": ".py",
      "mimetype": "text/x-python",
      "name": "python",
      "nbconvert_exporter": "python",
      "pygments_lexer": "ipython3",
      "version": "3.8"
    },
    "kernelspec": {
      "name": "python",
      "display_name": "Python (Pyodide)",
      "language": "python"
    }
  },
  "nbformat_minor": 4,
  "nbformat": 4,
  "cells": [
    {
      "cell_type": "markdown",
      "source": "# Rachna_FinalAssignment",
      "metadata": {
        "tags": []
      }
    },
    {
      "cell_type": "markdown",
      "source": "## Introduction\n\nWelcome to this notebook!",
      "metadata": {
        "tags": []
      }
    },
    {
      "cell_type": "markdown",
      "source": "## Data Science Languages\n\n1. **Python**s\n\n2. **R**\n\n3. **SQL**\n\n4. **Julia**\n    \n5. **Scala**",
      "metadata": {
        "tags": []
      }
    },
    {
      "cell_type": "markdown",
      "source": "# Data Science Libraries in Python\n\n1. **NumPy**\n  \n2. **Pandas**\n   \n3. **Matplotlib**\n \n4. **SciPy**\n\n5. **TensorFlow**\n \n6. **PyTorch**\n   ",
      "metadata": {
        "tags": []
      }
    },
    {
      "cell_type": "markdown",
      "source": "# Data Science Tools\n\n1.NumPy  2. Keras · 3. Pandas · 4. PyTorch · 5. SciPy · 6. Scikit-Learn · 7. TensorFlow · 8. Matplotlib.",
      "metadata": {
        "tags": []
      }
    },
    {
      "cell_type": "code",
      "source": "#arithmetic expression example\n\n2+2",
      "metadata": {
        "trusted": true
      },
      "execution_count": 15,
      "outputs": [
        {
          "execution_count": 15,
          "output_type": "execute_result",
          "data": {
            "text/plain": "4"
          },
          "metadata": {}
        }
      ]
    },
    {
      "cell_type": "code",
      "source": "# Multiplication\nresult = 6 * 7\nprint(result)",
      "metadata": {
        "trusted": true
      },
      "execution_count": 16,
      "outputs": [
        {
          "name": "stdout",
          "text": "42\n",
          "output_type": "stream"
        }
      ]
    },
    {
      "cell_type": "code",
      "source": "# Addition\nresult = 5 + 3\nprint(result)",
      "metadata": {
        "trusted": true
      },
      "execution_count": 17,
      "outputs": [
        {
          "name": "stdout",
          "text": "8\n",
          "output_type": "stream"
        }
      ]
    },
    {
      "cell_type": "code",
      "source": "# Convert minutes to hours\ndef convert_minutes_to_hours(minutes):\n    hours = minutes / 60\n    return hours\n\n# Convert 180 minutes to hours\nminutes_value = 180\nhours_result = convert_minutes_to_hours(minutes_value)\n\n# Display the result\nprint(f\"{minutes_value} minutes is equal to {hours_result:.3f} hours\")",
      "metadata": {
        "trusted": true
      },
      "execution_count": 21,
      "outputs": [
        {
          "name": "stdout",
          "text": "180 minutes is equal to 3.000 hours\n",
          "output_type": "stream"
        }
      ]
    },
    {
      "cell_type": "markdown",
      "source": "# Project Objectives\n\nThis data science project aims to achieve the following objectives:\n\n1. **Data Collection:**\n\n2. **Data Cleaning:**\n\n3. **Exploratory Data Analysis (EDA):**\n  \n4. **Feature Engineering:**\n\n5. **Model Development:**\n   \n6. **Hyperparameter Tuning:**\n\n7. **Model Interpretability:**\n\n8. **Deployment Preparation:**\n\n9. **Documentation:**\n\n10. **Communication:**\n   ",
      "metadata": {
        "tags": []
      }
    },
    {
      "cell_type": "code",
      "source": "# Author Information\n\n**Author:** [Rachna Singh]",
      "metadata": {},
      "execution_count": null,
      "outputs": []
    }
  ]
}